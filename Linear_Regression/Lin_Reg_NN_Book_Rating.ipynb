{
 "cells": [
  {
   "cell_type": "code",
   "execution_count": 85,
   "metadata": {},
   "outputs": [],
   "source": [
    "#import libraries\n",
    "import numpy as np\n",
    "import pandas as pd\n",
    "# import seaborn as sns\n",
    "# import matplotlib.pyplot as plt\n",
    "\n",
    "from sklearn import metrics\n",
    "from sklearn import preprocessing\n",
    "from sklearn.linear_model import LinearRegression\n",
    "from sklearn.model_selection import train_test_split"
   ]
  },
  {
   "cell_type": "code",
   "execution_count": 139,
   "metadata": {},
   "outputs": [],
   "source": [
    "#read the dataset\n",
    "data = pd.read_csv('final_data.csv')"
   ]
  },
  {
   "cell_type": "code",
   "execution_count": 140,
   "metadata": {},
   "outputs": [
    {
     "data": {
      "text/plain": [
       "8008"
      ]
     },
     "execution_count": 140,
     "metadata": {},
     "output_type": "execute_result"
    }
   ],
   "source": [
    "len(data)"
   ]
  },
  {
   "cell_type": "code",
   "execution_count": 141,
   "metadata": {},
   "outputs": [],
   "source": [
    "#remove entries with NaN values for columns taken as features\n",
    "data = data[data['publication_year'].notna()]\n",
    "data = data[data['authors'].notna()]\n",
    "data = data[data['num_pages'].notna()]\n",
    "data = data[data['genre'].notna()]"
   ]
  },
  {
   "cell_type": "code",
   "execution_count": 142,
   "metadata": {},
   "outputs": [
    {
     "data": {
      "text/plain": [
       "5347"
      ]
     },
     "execution_count": 142,
     "metadata": {},
     "output_type": "execute_result"
    }
   ],
   "source": [
    "len(data)"
   ]
  },
  {
   "cell_type": "code",
   "execution_count": 143,
   "metadata": {},
   "outputs": [],
   "source": [
    "#determine age of book as (2020 - publication_year)\n",
    "data['age'] = [(2020 - int(x)) for x in data['publication_year']] "
   ]
  },
  {
   "cell_type": "code",
   "execution_count": 144,
   "metadata": {},
   "outputs": [
    {
     "data": {
      "text/html": [
       "<div>\n",
       "<style scoped>\n",
       "    .dataframe tbody tr th:only-of-type {\n",
       "        vertical-align: middle;\n",
       "    }\n",
       "\n",
       "    .dataframe tbody tr th {\n",
       "        vertical-align: top;\n",
       "    }\n",
       "\n",
       "    .dataframe thead th {\n",
       "        text-align: right;\n",
       "    }\n",
       "</style>\n",
       "<table border=\"1\" class=\"dataframe\">\n",
       "  <thead>\n",
       "    <tr style=\"text-align: right;\">\n",
       "      <th></th>\n",
       "      <th>authors</th>\n",
       "      <th>num_pages</th>\n",
       "      <th>age</th>\n",
       "      <th>genre</th>\n",
       "      <th>average_rating</th>\n",
       "    </tr>\n",
       "  </thead>\n",
       "  <tbody>\n",
       "    <tr>\n",
       "      <th>0</th>\n",
       "      <td>[{'author_id': '3041852', 'role': ''}]</td>\n",
       "      <td>162.0</td>\n",
       "      <td>14</td>\n",
       "      <td>history</td>\n",
       "      <td>4.13</td>\n",
       "    </tr>\n",
       "    <tr>\n",
       "      <th>1</th>\n",
       "      <td>[{'author_id': '37778', 'role': ''}]</td>\n",
       "      <td>400.0</td>\n",
       "      <td>11</td>\n",
       "      <td>history</td>\n",
       "      <td>3.93</td>\n",
       "    </tr>\n",
       "    <tr>\n",
       "      <th>2</th>\n",
       "      <td>[{'author_id': '137561', 'role': ''}]</td>\n",
       "      <td>288.0</td>\n",
       "      <td>14</td>\n",
       "      <td>history</td>\n",
       "      <td>3.98</td>\n",
       "    </tr>\n",
       "    <tr>\n",
       "      <th>4</th>\n",
       "      <td>[{'author_id': '51229', 'role': ''}, {'author_...</td>\n",
       "      <td>332.0</td>\n",
       "      <td>8</td>\n",
       "      <td>history</td>\n",
       "      <td>4.28</td>\n",
       "    </tr>\n",
       "    <tr>\n",
       "      <th>6</th>\n",
       "      <td>[{'author_id': '337108', 'role': ''}, {'author...</td>\n",
       "      <td>659.0</td>\n",
       "      <td>14</td>\n",
       "      <td>history</td>\n",
       "      <td>3.54</td>\n",
       "    </tr>\n",
       "    <tr>\n",
       "      <th>...</th>\n",
       "      <td>...</td>\n",
       "      <td>...</td>\n",
       "      <td>...</td>\n",
       "      <td>...</td>\n",
       "      <td>...</td>\n",
       "    </tr>\n",
       "    <tr>\n",
       "      <th>8000</th>\n",
       "      <td>[{'author_id': '8108129', 'role': ''}]</td>\n",
       "      <td>270.0</td>\n",
       "      <td>6</td>\n",
       "      <td>young adult</td>\n",
       "      <td>3.84</td>\n",
       "    </tr>\n",
       "    <tr>\n",
       "      <th>8002</th>\n",
       "      <td>[{'author_id': '614210', 'role': ''}]</td>\n",
       "      <td>199.0</td>\n",
       "      <td>6</td>\n",
       "      <td>young adult</td>\n",
       "      <td>3.79</td>\n",
       "    </tr>\n",
       "    <tr>\n",
       "      <th>8003</th>\n",
       "      <td>[{'author_id': '11664', 'role': ''}]</td>\n",
       "      <td>208.0</td>\n",
       "      <td>7</td>\n",
       "      <td>young adult</td>\n",
       "      <td>4.10</td>\n",
       "    </tr>\n",
       "    <tr>\n",
       "      <th>8005</th>\n",
       "      <td>[{'author_id': '2987125', 'role': ''}, {'autho...</td>\n",
       "      <td>288.0</td>\n",
       "      <td>7</td>\n",
       "      <td>young adult</td>\n",
       "      <td>4.15</td>\n",
       "    </tr>\n",
       "    <tr>\n",
       "      <th>8006</th>\n",
       "      <td>[{'author_id': '2885318', 'role': ''}]</td>\n",
       "      <td>454.0</td>\n",
       "      <td>5</td>\n",
       "      <td>young adult</td>\n",
       "      <td>3.42</td>\n",
       "    </tr>\n",
       "  </tbody>\n",
       "</table>\n",
       "<p>5347 rows × 5 columns</p>\n",
       "</div>"
      ],
      "text/plain": [
       "                                                authors  num_pages  age  \\\n",
       "0                [{'author_id': '3041852', 'role': ''}]      162.0   14   \n",
       "1                  [{'author_id': '37778', 'role': ''}]      400.0   11   \n",
       "2                 [{'author_id': '137561', 'role': ''}]      288.0   14   \n",
       "4     [{'author_id': '51229', 'role': ''}, {'author_...      332.0    8   \n",
       "6     [{'author_id': '337108', 'role': ''}, {'author...      659.0   14   \n",
       "...                                                 ...        ...  ...   \n",
       "8000             [{'author_id': '8108129', 'role': ''}]      270.0    6   \n",
       "8002              [{'author_id': '614210', 'role': ''}]      199.0    6   \n",
       "8003               [{'author_id': '11664', 'role': ''}]      208.0    7   \n",
       "8005  [{'author_id': '2987125', 'role': ''}, {'autho...      288.0    7   \n",
       "8006             [{'author_id': '2885318', 'role': ''}]      454.0    5   \n",
       "\n",
       "            genre  average_rating  \n",
       "0         history            4.13  \n",
       "1         history            3.93  \n",
       "2         history            3.98  \n",
       "4         history            4.28  \n",
       "6         history            3.54  \n",
       "...           ...             ...  \n",
       "8000  young adult            3.84  \n",
       "8002  young adult            3.79  \n",
       "8003  young adult            4.10  \n",
       "8005  young adult            4.15  \n",
       "8006  young adult            3.42  \n",
       "\n",
       "[5347 rows x 5 columns]"
      ]
     },
     "execution_count": 144,
     "metadata": {},
     "output_type": "execute_result"
    }
   ],
   "source": [
    "#select columns title, authors, num_pages, age, genre, and average_rating as data\n",
    "data = data[['authors', 'num_pages', 'age', 'genre', 'average_rating']]\n",
    "\n",
    "#drop null values\n",
    "data.dropna()"
   ]
  },
  {
   "cell_type": "code",
   "execution_count": 146,
   "metadata": {},
   "outputs": [
    {
     "name": "stdout",
     "output_type": "stream",
     "text": [
      "<class 'pandas.core.frame.DataFrame'>\n",
      "Int64Index: 5347 entries, 0 to 8006\n",
      "Data columns (total 5 columns):\n",
      " #   Column          Non-Null Count  Dtype  \n",
      "---  ------          --------------  -----  \n",
      " 0   authors         5347 non-null   object \n",
      " 1   num_pages       5347 non-null   float64\n",
      " 2   age             5347 non-null   int64  \n",
      " 3   genre           5347 non-null   object \n",
      " 4   average_rating  5347 non-null   float64\n",
      "dtypes: float64(2), int64(1), object(2)\n",
      "memory usage: 250.6+ KB\n"
     ]
    }
   ],
   "source": [
    "#look at the data\n",
    "data.info()"
   ]
  },
  {
   "cell_type": "code",
   "execution_count": 44,
   "metadata": {},
   "outputs": [],
   "source": [
    "#Anomaly detection"
   ]
  },
  {
   "cell_type": "code",
   "execution_count": 45,
   "metadata": {},
   "outputs": [
    {
     "data": {
      "text/plain": [
       "<matplotlib.axes._subplots.AxesSubplot at 0x7f992616a9b0>"
      ]
     },
     "execution_count": 45,
     "metadata": {},
     "output_type": "execute_result"
    },
    {
     "data": {
      "image/png": "[encoded data removed]",
      "text/plain": [
       "<Figure size 432x288 with 1 Axes>"
      ]
     },
     "metadata": {
      "needs_background": "light"
     },
     "output_type": "display_data"
    }
   ],
   "source": [
    "# find no. of pages outliers\n",
    "# sns.boxplot(x=data['num_pages'])"
   ]
  },
  {
   "cell_type": "code",
   "execution_count": 147,
   "metadata": {},
   "outputs": [],
   "source": [
    "# remove outliers from no. of pages \n",
    "data = data.drop(data.index[data['num_pages'] >= 1000])"
   ]
  },
  {
   "cell_type": "code",
   "execution_count": 148,
   "metadata": {},
   "outputs": [
    {
     "data": {
      "text/plain": [
       "5331"
      ]
     },
     "execution_count": 148,
     "metadata": {},
     "output_type": "execute_result"
    }
   ],
   "source": [
    "len(data)"
   ]
  },
  {
   "cell_type": "code",
   "execution_count": 48,
   "metadata": {},
   "outputs": [],
   "source": [
    "#Feature Engineering\n",
    "#Transforming textual features into numerical features"
   ]
  },
  {
   "cell_type": "code",
   "execution_count": 149,
   "metadata": {},
   "outputs": [],
   "source": [
    "le = preprocessing.LabelEncoder()"
   ]
  },
  {
   "cell_type": "code",
   "execution_count": 150,
   "metadata": {},
   "outputs": [],
   "source": [
    "#encode authors column\n",
    "data['authors'] = le.fit_transform(data['authors'])"
   ]
  },
  {
   "cell_type": "code",
   "execution_count": 151,
   "metadata": {},
   "outputs": [],
   "source": [
    "#encode genre column\n",
    "data['genre'] = le.fit_transform(data['genre'])"
   ]
  },
  {
   "cell_type": "code",
   "execution_count": 152,
   "metadata": {},
   "outputs": [
    {
     "name": "stdout",
     "output_type": "stream",
     "text": [
      "<class 'pandas.core.frame.DataFrame'>\n",
      "Int64Index: 5331 entries, 0 to 8006\n",
      "Data columns (total 5 columns):\n",
      " #   Column          Non-Null Count  Dtype  \n",
      "---  ------          --------------  -----  \n",
      " 0   authors         5331 non-null   int32  \n",
      " 1   num_pages       5331 non-null   float64\n",
      " 2   age             5331 non-null   int64  \n",
      " 3   genre           5331 non-null   int32  \n",
      " 4   average_rating  5331 non-null   float64\n",
      "dtypes: float64(2), int32(2), int64(1)\n",
      "memory usage: 208.2 KB\n"
     ]
    }
   ],
   "source": [
    "data.info()"
   ]
  },
  {
   "cell_type": "code",
   "execution_count": 153,
   "metadata": {},
   "outputs": [],
   "source": [
    "#One hot encoding for authors and genre\n",
    "from sklearn.preprocessing import LabelBinarizer\n",
    "\n",
    "max_value_authors = data['authors'].max()\n",
    "max_value_genre = data['genre'].max()\n",
    "authors_encoder = LabelBinarizer()\n",
    "genre_encoder = LabelBinarizer()\n",
    "authors_encoder.fit(data['authors'])\n",
    "genre_encoder.fit(data['genre'])\n",
    "transformed_authors = authors_encoder.transform(data['authors'])\n",
    "transformed_genres = genre_encoder.transform(data['genre'])\n",
    "onehot_authors_df = pd.DataFrame(transformed_authors)\n",
    "onehot_genres_df = pd.DataFrame(transformed_genres)\n",
    "data = pd.concat([data,onehot_authors_df,onehot_genres_df],axis=1).drop(['authors','genre'],axis=1)\n",
    "\n"
   ]
  },
  {
   "cell_type": "code",
   "execution_count": 154,
   "metadata": {},
   "outputs": [],
   "source": [
    "# divide the data into attributes and labels\n",
    "X = data.drop(['average_rating'], axis = 1)\n",
    "y = data['average_rating']"
   ]
  },
  {
   "cell_type": "code",
   "execution_count": 155,
   "metadata": {},
   "outputs": [],
   "source": [
    "# split 80% of the data to the training set and 20% of the data to test set \n",
    "X_train, X_test, y_train, y_test = train_test_split(X, y, test_size = 0.10, random_state = 10)\n",
    "X_train = torch.tensor(X_train.values).float()\n",
    "X_test = torch.tensor(X_test.values).float()\n",
    "y_train = torch.tensor(y_train.values).float()\n",
    "y_train = torch.unsqueeze(y_train,1)\n",
    "y_test = torch.tensor(y_test.values).float()\n",
    "y_test = torch.unsqueeze(y_test,1)\n"
   ]
  },
  {
   "cell_type": "code",
   "execution_count": 171,
   "metadata": {},
   "outputs": [
    {
     "name": "stdout",
     "output_type": "stream",
     "text": [
      "tensor([[0.1311, 0.0085, 0.0000,  ..., 0.0000, 0.0000, 0.0000],\n",
      "        [0.2787, 0.0085, 0.0000,  ..., 0.0000, 0.0000, 1.0000],\n",
      "        [0.0287, 0.0030, 0.0000,  ..., 0.0000, 0.0000, 0.0000],\n",
      "        ...,\n",
      "        [0.0410, 0.0050, 0.0000,  ..., 0.0000, 0.0000, 0.0000],\n",
      "        [0.3443, 0.0095, 0.0000,  ..., 0.0000, 0.0000, 1.0000],\n",
      "        [0.1639, 0.0140, 0.0000,  ..., 0.0000, 0.0000, 0.0000]])\n"
     ]
    }
   ],
   "source": [
    "# remove nan values for page number,age,authors\n",
    "X_train_mask = X_train[:,0].eq(X_train[:,0]) # mask for nan values\n",
    "X_train_mask = X_train_mask & X_train[:,1].eq(X_train[:,1]) # mask for nan values\n",
    "X_train_mask = X_train_mask & X_train[:,2].eq(X_train[:,2]) # mask for nan values\n",
    "\n",
    "X_test_mask = X_test[:,0].eq(X_test[:,0]) # mask for nan values\n",
    "X_test_mask = X_test_mask & X_test[:,1].eq(X_test[:,1]) # mask for nan values\n",
    "X_test_mask = X_test_mask & X_test[:,2].eq(X_test[:,2]) # mask for nan values\n",
    "\n",
    "X_train = X_train[X_train_mask,:]\n",
    "y_train = y_train[X_train_mask,:]\n",
    "X_test = X_test[X_test_mask,:]\n",
    "y_test = y_test[X_test_mask,:]\n",
    "\n",
    "#normalize pages, age\n",
    "pages_max = torch.max(X_train[:,0])\n",
    "age_max = torch.max(X_train[:,1])\n",
    "X_train[:,0] = X_train[:,0] / pages_max\n",
    "X_train[:,1] = X_train[:,1] / age_max\n",
    "\n",
    "X_test[:,0] = X_test[:,0] / pages_max\n",
    "X_test[:,1] = X_test[:,1] / age_max\n",
    "print(X_train)"
   ]
  },
  {
   "cell_type": "code",
   "execution_count": 57,
   "metadata": {
    "scrolled": true
   },
   "outputs": [
    {
     "data": {
      "text/plain": [
       "LinearRegression(copy_X=True, fit_intercept=True, n_jobs=None, normalize=False)"
      ]
     },
     "execution_count": 57,
     "metadata": {},
     "output_type": "execute_result"
    }
   ],
   "source": [
    "lr = LinearRegression()\n",
    "lr.fit(X_train, y_train)"
   ]
  },
  {
   "cell_type": "code",
   "execution_count": 58,
   "metadata": {},
   "outputs": [],
   "source": [
    "predictions = lr.predict(X_test)"
   ]
  },
  {
   "cell_type": "code",
   "execution_count": 59,
   "metadata": {},
   "outputs": [
    {
     "data": {
      "text/html": [
       "<div>\n",
       "<style scoped>\n",
       "    .dataframe tbody tr th:only-of-type {\n",
       "        vertical-align: middle;\n",
       "    }\n",
       "\n",
       "    .dataframe tbody tr th {\n",
       "        vertical-align: top;\n",
       "    }\n",
       "\n",
       "    .dataframe thead th {\n",
       "        text-align: right;\n",
       "    }\n",
       "</style>\n",
       "<table border=\"1\" class=\"dataframe\">\n",
       "  <thead>\n",
       "    <tr style=\"text-align: right;\">\n",
       "      <th></th>\n",
       "      <th>Actual</th>\n",
       "      <th>Predicted</th>\n",
       "    </tr>\n",
       "  </thead>\n",
       "  <tbody>\n",
       "    <tr>\n",
       "      <th>0</th>\n",
       "      <td>3.64</td>\n",
       "      <td>3.926094</td>\n",
       "    </tr>\n",
       "    <tr>\n",
       "      <th>1</th>\n",
       "      <td>4.24</td>\n",
       "      <td>3.944888</td>\n",
       "    </tr>\n",
       "    <tr>\n",
       "      <th>2</th>\n",
       "      <td>4.08</td>\n",
       "      <td>3.892507</td>\n",
       "    </tr>\n",
       "    <tr>\n",
       "      <th>3</th>\n",
       "      <td>4.21</td>\n",
       "      <td>3.871408</td>\n",
       "    </tr>\n",
       "    <tr>\n",
       "      <th>4</th>\n",
       "      <td>3.99</td>\n",
       "      <td>3.930625</td>\n",
       "    </tr>\n",
       "    <tr>\n",
       "      <th>5</th>\n",
       "      <td>3.90</td>\n",
       "      <td>3.935830</td>\n",
       "    </tr>\n",
       "    <tr>\n",
       "      <th>6</th>\n",
       "      <td>4.04</td>\n",
       "      <td>3.924351</td>\n",
       "    </tr>\n",
       "    <tr>\n",
       "      <th>7</th>\n",
       "      <td>4.32</td>\n",
       "      <td>3.883338</td>\n",
       "    </tr>\n",
       "    <tr>\n",
       "      <th>8</th>\n",
       "      <td>4.12</td>\n",
       "      <td>3.874602</td>\n",
       "    </tr>\n",
       "    <tr>\n",
       "      <th>9</th>\n",
       "      <td>4.17</td>\n",
       "      <td>3.855039</td>\n",
       "    </tr>\n",
       "  </tbody>\n",
       "</table>\n",
       "</div>"
      ],
      "text/plain": [
       "   Actual  Predicted\n",
       "0    3.64   3.926094\n",
       "1    4.24   3.944888\n",
       "2    4.08   3.892507\n",
       "3    4.21   3.871408\n",
       "4    3.99   3.930625\n",
       "5    3.90   3.935830\n",
       "6    4.04   3.924351\n",
       "7    4.32   3.883338\n",
       "8    4.12   3.874602\n",
       "9    4.17   3.855039"
      ]
     },
     "execution_count": 59,
     "metadata": {},
     "output_type": "execute_result"
    }
   ],
   "source": [
    "pred = pd.DataFrame({'Actual': y_test.tolist(), 'Predicted': predictions.tolist()}).head(25)\n",
    "pred.head(10)"
   ]
  },
  {
   "cell_type": "code",
   "execution_count": 60,
   "metadata": {},
   "outputs": [
    {
     "data": {
      "text/plain": [
       "<matplotlib.axes._subplots.AxesSubplot at 0x7f9926720710>"
      ]
     },
     "execution_count": 60,
     "metadata": {},
     "output_type": "execute_result"
    },
    {
     "data": {
      "image/png": "[encoded data removed]",
      "text/plain": [
       "<Figure size 936x504 with 1 Axes>"
      ]
     },
     "metadata": {
      "needs_background": "light"
     },
     "output_type": "display_data"
    }
   ],
   "source": [
    "# visualise the above comparison result\n",
    "pred.plot(kind='bar', figsize=(13, 7))"
   ]
  },
  {
   "cell_type": "code",
   "execution_count": 61,
   "metadata": {},
   "outputs": [
    {
     "name": "stdout",
     "output_type": "stream",
     "text": [
      "MAE: 0.2776167878627979\n",
      "MSE: 0.12774518548521124\n",
      "RMSE: 0.35741458488037564\n"
     ]
    }
   ],
   "source": [
    "# evaluate the performance of the algorithm\n",
    "print('MAE:', metrics.mean_absolute_error(y_test, predictions))\n",
    "print('MSE:', metrics.mean_squared_error(y_test, predictions))\n",
    "print('RMSE:', np.sqrt(metrics.mean_squared_error(y_test, predictions)))"
   ]
  },
  {
   "cell_type": "code",
   "execution_count": 168,
   "metadata": {},
   "outputs": [],
   "source": [
    "import torch\n",
    "import torch.nn as nn\n",
    "\n",
    "\n",
    "class SimpleNet(nn.Module):\n",
    "\n",
    "  def __init__(self):\n",
    "\n",
    "    super().__init__()\n",
    "\n",
    "    self.loss_criterion = nn.MSELoss()\n",
    "    \n",
    "    self.fc_layers = nn.Sequential(\n",
    "          nn.Linear(4395,300),\n",
    "          nn.ReLU(),\n",
    "          nn.Linear(300,100),\n",
    "          nn.ReLU(),\n",
    "          nn.Linear(100,1)\n",
    "    )\n",
    "    \n",
    "\n",
    "  def forward(self, x: torch.tensor) -> torch.tensor:\n",
    "    '''\n",
    "    Perform the forward pass with the net\n",
    "\n",
    "    '''\n",
    "    model_output = self.fc_layers(x)\n",
    "    return model_output\n"
   ]
  },
  {
   "cell_type": "code",
   "execution_count": 174,
   "metadata": {},
   "outputs": [
    {
     "name": "stdout",
     "output_type": "stream",
     "text": [
      "Epoch 1 Training Loss :14.87890911102295 Test Loss:14.838125228881836\n",
      "Epoch 2 Training Loss :14.133030891418457 Test Loss:14.093783378601074\n",
      "Epoch 3 Training Loss :13.42531967163086 Test Loss:13.387672424316406\n",
      "Epoch 4 Training Loss :12.747092247009277 Test Loss:12.710983276367188\n",
      "Epoch 5 Training Loss :12.093786239624023 Test Loss:12.059233665466309\n",
      "Epoch 6 Training Loss :11.463861465454102 Test Loss:11.430787086486816\n",
      "Epoch 7 Training Loss :10.85459041595459 Test Loss:10.822893142700195\n",
      "Epoch 8 Training Loss :10.263143539428711 Test Loss:10.232677459716797\n",
      "Epoch 9 Training Loss :9.686277389526367 Test Loss:9.65700912475586\n",
      "Epoch 10 Training Loss :9.121350288391113 Test Loss:9.093316078186035\n",
      "Epoch 11 Training Loss :8.56667709350586 Test Loss:8.539867401123047\n",
      "Epoch 12 Training Loss :8.021400451660156 Test Loss:7.995820999145508\n",
      "Epoch 13 Training Loss :7.485214710235596 Test Loss:7.460879802703857\n",
      "Epoch 14 Training Loss :6.958240985870361 Test Loss:6.935189247131348\n",
      "Epoch 15 Training Loss :6.440990447998047 Test Loss:6.419239521026611\n",
      "Epoch 16 Training Loss :5.934330463409424 Test Loss:5.913924217224121\n",
      "Epoch 17 Training Loss :5.439388751983643 Test Loss:5.420370101928711\n",
      "Epoch 18 Training Loss :4.957612037658691 Test Loss:4.9399895668029785\n",
      "Epoch 19 Training Loss :4.490785121917725 Test Loss:4.474572658538818\n",
      "Epoch 20 Training Loss :4.040985584259033 Test Loss:4.026227951049805\n",
      "Epoch 21 Training Loss :3.610515594482422 Test Loss:3.5972604751586914\n",
      "Epoch 22 Training Loss :3.201723337173462 Test Loss:3.1899919509887695\n",
      "Epoch 23 Training Loss :2.8169174194335938 Test Loss:2.8067378997802734\n",
      "Epoch 24 Training Loss :2.4582486152648926 Test Loss:2.4496331214904785\n",
      "Epoch 25 Training Loss :2.1275384426116943 Test Loss:2.120497226715088\n",
      "Epoch 26 Training Loss :1.8261933326721191 Test Loss:1.8207101821899414\n",
      "Epoch 27 Training Loss :1.5550788640975952 Test Loss:1.5511280298233032\n",
      "Epoch 28 Training Loss :1.31439208984375 Test Loss:1.311938762664795\n",
      "Epoch 29 Training Loss :1.1036489009857178 Test Loss:1.1026439666748047\n",
      "Epoch 30 Training Loss :0.9217151999473572 Test Loss:0.9221071600914001\n",
      "Epoch 31 Training Loss :0.7668874263763428 Test Loss:0.7686042189598083\n",
      "Epoch 32 Training Loss :0.6369970440864563 Test Loss:0.6399655938148499\n",
      "Epoch 33 Training Loss :0.5295544862747192 Test Loss:0.5337001085281372\n",
      "Epoch 34 Training Loss :0.4419000446796417 Test Loss:0.4471389353275299\n",
      "Epoch 35 Training Loss :0.37133142352104187 Test Loss:0.37758058309555054\n",
      "Epoch 36 Training Loss :0.3152369558811188 Test Loss:0.32241013646125793\n",
      "Epoch 37 Training Loss :0.27118179202079773 Test Loss:0.2791978716850281\n",
      "Epoch 38 Training Loss :0.23696862161159515 Test Loss:0.24574324488639832\n",
      "Epoch 39 Training Loss :0.21067039668560028 Test Loss:0.22012276947498322\n",
      "Epoch 40 Training Loss :0.19064320623874664 Test Loss:0.20069435238838196\n",
      "Epoch 41 Training Loss :0.17551742494106293 Test Loss:0.1860942840576172\n",
      "Epoch 42 Training Loss :0.16417771577835083 Test Loss:0.1752140074968338\n",
      "Epoch 43 Training Loss :0.15573124587535858 Test Loss:0.1671672910451889\n",
      "Epoch 44 Training Loss :0.1494753211736679 Test Loss:0.1612580120563507\n",
      "Epoch 45 Training Loss :0.1448645144701004 Test Loss:0.15694659948349\n",
      "Epoch 46 Training Loss :0.14148050546646118 Test Loss:0.15382020175457\n",
      "Epoch 47 Training Loss :0.1390056610107422 Test Loss:0.15156632661819458\n",
      "Epoch 48 Training Loss :0.1372009664773941 Test Loss:0.14995068311691284\n",
      "Epoch 49 Training Loss :0.13588795065879822 Test Loss:0.14879906177520752\n",
      "Epoch 50 Training Loss :0.13493436574935913 Test Loss:0.1479828953742981\n",
      "Epoch 51 Training Loss :0.13424260914325714 Test Loss:0.1474078744649887\n",
      "Epoch 52 Training Loss :0.13374093174934387 Test Loss:0.14700530469417572\n",
      "Epoch 53 Training Loss :0.1333770453929901 Test Loss:0.14672523736953735\n",
      "Epoch 54 Training Loss :0.13311271369457245 Test Loss:0.1465318351984024\n",
      "Epoch 55 Training Loss :0.1329202502965927 Test Loss:0.14639921486377716\n",
      "Epoch 56 Training Loss :0.13277959823608398 Test Loss:0.14630894362926483\n",
      "Epoch 57 Training Loss :0.13267619907855988 Test Loss:0.14624790847301483\n",
      "Epoch 58 Training Loss :0.1325996071100235 Test Loss:0.1462068408727646\n",
      "Epoch 59 Training Loss :0.13254226744174957 Test Loss:0.14617925882339478\n",
      "Epoch 60 Training Loss :0.13249875605106354 Test Loss:0.1461605727672577\n",
      "Epoch 61 Training Loss :0.1324651688337326 Test Loss:0.14614763855934143\n",
      "Epoch 62 Training Loss :0.13243870437145233 Test Loss:0.1461382955312729\n",
      "Epoch 63 Training Loss :0.13241733610630035 Test Loss:0.14613103866577148\n",
      "Epoch 64 Training Loss :0.13239963352680206 Test Loss:0.146124929189682\n",
      "Epoch 65 Training Loss :0.13238456845283508 Test Loss:0.14611934125423431\n",
      "Epoch 66 Training Loss :0.13237139582633972 Test Loss:0.1461137980222702\n",
      "Epoch 67 Training Loss :0.132359579205513 Test Loss:0.14610810577869415\n",
      "Epoch 68 Training Loss :0.13234876096248627 Test Loss:0.14610208570957184\n",
      "Epoch 69 Training Loss :0.13233862817287445 Test Loss:0.14609570801258087\n",
      "Epoch 70 Training Loss :0.1323290318250656 Test Loss:0.14608892798423767\n",
      "Epoch 71 Training Loss :0.1323198527097702 Test Loss:0.14608173072338104\n",
      "Epoch 72 Training Loss :0.1323109120130539 Test Loss:0.14607419073581696\n",
      "Epoch 73 Training Loss :0.1323021799325943 Test Loss:0.14606629312038422\n",
      "Epoch 74 Training Loss :0.13229361176490784 Test Loss:0.1460580974817276\n",
      "Epoch 75 Training Loss :0.13228517770767212 Test Loss:0.1460495889186859\n",
      "Epoch 76 Training Loss :0.13227684795856476 Test Loss:0.1460409015417099\n",
      "Epoch 77 Training Loss :0.13226857781410217 Test Loss:0.14603199064731598\n",
      "Epoch 78 Training Loss :0.13226038217544556 Test Loss:0.14602291584014893\n",
      "Epoch 79 Training Loss :0.13225223124027252 Test Loss:0.14601370692253113\n",
      "Epoch 80 Training Loss :0.13224412500858307 Test Loss:0.14600437879562378\n",
      "Epoch 81 Training Loss :0.13223609328269958 Test Loss:0.14599494636058807\n",
      "Epoch 82 Training Loss :0.1322280764579773 Test Loss:0.1459854543209076\n",
      "Epoch 83 Training Loss :0.1322200894355774 Test Loss:0.14597587287425995\n",
      "Epoch 84 Training Loss :0.13221216201782227 Test Loss:0.1459662765264511\n",
      "Epoch 85 Training Loss :0.13220424950122833 Test Loss:0.14595665037631989\n",
      "Epoch 86 Training Loss :0.1321963667869568 Test Loss:0.14594700932502747\n",
      "Epoch 87 Training Loss :0.13218852877616882 Test Loss:0.14593735337257385\n",
      "Epoch 88 Training Loss :0.13218070566654205 Test Loss:0.14592768251895905\n",
      "Epoch 89 Training Loss :0.13217292726039886 Test Loss:0.14591801166534424\n",
      "Epoch 90 Training Loss :0.13216517865657806 Test Loss:0.14590835571289062\n",
      "Epoch 91 Training Loss :0.13215743005275726 Test Loss:0.145898699760437\n",
      "Epoch 92 Training Loss :0.13214975595474243 Test Loss:0.1458890587091446\n",
      "Epoch 93 Training Loss :0.1321420818567276 Test Loss:0.14587943255901337\n",
      "Epoch 94 Training Loss :0.13213443756103516 Test Loss:0.14586983621120453\n",
      "Epoch 95 Training Loss :0.1321268230676651 Test Loss:0.14586026966571808\n",
      "Epoch 96 Training Loss :0.13211923837661743 Test Loss:0.14585071802139282\n",
      "Epoch 97 Training Loss :0.13211168348789215 Test Loss:0.14584119617938995\n",
      "Epoch 98 Training Loss :0.13210417330265045 Test Loss:0.14583168923854828\n",
      "Epoch 99 Training Loss :0.13209666311740875 Test Loss:0.14582225680351257\n",
      "Epoch 100 Training Loss :0.13208918273448944 Test Loss:0.14581279456615448\n"
     ]
    }
   ],
   "source": [
    "EPOCHS = 100\n",
    "\n",
    "simpleNNmodel = SimpleNet()\n",
    "\n",
    "for epoch in range(EPOCHS):\n",
    "    optimizer = optim.SGD(simpleNNmodel.parameters(), lr=0.01)\n",
    "    epoch_loss = 0\n",
    "    \n",
    "    simpleNNmodel.train()\n",
    "    \n",
    "    y_train_output = simpleNNmodel(X_train)\n",
    "    y_test_output = simpleNNmodel(X_test)\n",
    "    loss = simpleNNmodel.loss_criterion(y_train_output,y_train)\n",
    "    optimizer.zero_grad()\n",
    "    loss.backward()\n",
    "    optimizer.step()\n",
    "    \n",
    "    validation_loss = simpleNNmodel.loss_criterion(y_test_output,y_test)\n",
    "    print('Epoch {} Training Loss :{} Test Loss:{}'.format((epoch+1),loss,validation_loss))"
   ]
  }
 ],
 "metadata": {
  "kernelspec": {
   "display_name": "Python 3",
   "language": "python",
   "name": "python3"
  },
  "language_info": {
   "codemirror_mode": {
    "name": "ipython",
    "version": 3
   },
   "file_extension": ".py",
   "mimetype": "text/x-python",
   "name": "python",
   "nbconvert_exporter": "python",
   "pygments_lexer": "ipython3",
   "version": "3.8.5"
  }
 },
 "nbformat": 4,
 "nbformat_minor": 2
}
